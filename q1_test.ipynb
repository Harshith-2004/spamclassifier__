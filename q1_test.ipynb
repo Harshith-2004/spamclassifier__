{
 "cells": [
  {
   "cell_type": "code",
   "execution_count": 1,
   "metadata": {},
   "outputs": [],
   "source": [
    "import numpy as np\n",
    "import pandas as pd\n",
    "from matplotlib import pyplot as plt\n",
    "import math\n",
    "from sklearn.model_selection import train_test_split\n",
    "from sklearn import svm\n",
    "# from sklearn.feature_extraction.text\n",
    "from nltk.tokenize import word_tokenize\n",
    "from nltk.probability import FreqDist\n",
    "from sklearn.feature_extraction.text import CountVectorizer\n",
    "import chardet\n",
    "import re\n",
    "import os"
   ]
  },
  {
   "cell_type": "code",
   "execution_count": 2,
   "metadata": {},
   "outputs": [],
   "source": [
    "with open('emails.csv', 'rb') as f:\n",
    "    result = chardet.detect(f.read())\n",
    "har = pd.read_csv('emails.csv', encoding=result['encoding'])"
   ]
  },
  {
   "cell_type": "code",
   "execution_count": 3,
   "metadata": {},
   "outputs": [],
   "source": [
    "har.columns=['text', 'spam']\n",
    "har['text']=har['text'].apply(lambda text: re.sub(r'[^a-zA-Z\\s]','', text))"
   ]
  },
  {
   "cell_type": "code",
   "execution_count": 4,
   "metadata": {},
   "outputs": [
    {
     "name": "stdout",
     "output_type": "stream",
     "text": [
      "(5728, 33408)\n",
      "[0 0 0 ... 0 0 0]\n"
     ]
    }
   ],
   "source": [
    "vectoriser = CountVectorizer(stop_words='english')\n",
    "vectorised_data = vectoriser.fit_transform(har['text'])\n",
    "vectorised_data = vectorised_data.toarray()\n",
    "feat=vectoriser.get_feature_names_out()\n",
    "print(vectorised_data.shape)\n",
    "with open('featurename.txt','w') as file:\n",
    "    for f in feat:\n",
    "        file.write(f + '\\n')\n",
    "Y= np.where(har['spam']==1, 1, 0)\n",
    "# print(Y)\n",
    "X_train, X_test, Y_train, Y_test = train_test_split(vectorised_data, Y, test_size=0.2, random_state=40)\n",
    "print(Y_train)\n",
    "#laplace smoothening\n",
    "a_ones = np.ones_like(X_train[0])\n",
    "X_train= list(X_train)\n",
    "X_train.append(a_ones)\n",
    "X_train.append(a_ones)\n",
    "Y_train= list(Y_train)\n",
    "Y_train.append(0)\n",
    "Y_train.append(1)\n",
    "a_ones = np.zeros_like(X_train[0])\n",
    "X_train= list(X_train)\n",
    "X_train.append(a_ones)\n",
    "X_train.append(a_ones)\n",
    "Y_train= list(Y_train)\n",
    "Y_train.append(0)\n",
    "Y_train.append(1)\n",
    "X_train= np.array(X_train)\n",
    "Y_train=np.array(Y_train)\n"
   ]
  },
  {
   "cell_type": "code",
   "execution_count": 5,
   "metadata": {},
   "outputs": [
    {
     "name": "stdout",
     "output_type": "stream",
     "text": [
      "0.23528129088530308\n",
      "[0.00185357 0.00092678 0.00092678 ... 0.00092678 0.00092678 0.00370714]\n",
      "[0.00655831 0.00142572 0.00057029 ... 0.00028514 0.00085543 0.00028514]\n"
     ]
    }
   ],
   "source": [
    "#Naive Bayes algorithm \n",
    "bin_mat = np.where(X_train>0,1, 0 )\n",
    "phi_nb = np.sum(Y_train)/Y_train.size\n",
    "print(phi_nb)\n",
    "bin_mat0 = bin_mat[Y_train==0]\n",
    "bin_mat1 = bin_mat[Y_train==1]\n",
    "h, w = bin_mat0.shape\n",
    "p0_nb= np.sum(bin_mat0, axis=0)/h\n",
    "h, w = bin_mat1.shape\n",
    "p1_nb= np.sum(bin_mat1, axis=0)/h\n",
    "print(p1_nb)\n",
    "print(p0_nb)\n"
   ]
  },
  {
   "cell_type": "code",
   "execution_count": 6,
   "metadata": {},
   "outputs": [
    {
     "name": "stdout",
     "output_type": "stream",
     "text": [
      "1146 33408\n",
      "[0.00185357 0.00092678 0.00092678 ... 0.00092678 0.00092678 0.00370714]\n",
      "56\n",
      "98.77889228085478\n"
     ]
    }
   ],
   "source": [
    "X_test= np.array(X_test)\n",
    "Y_test=np.array(Y_test)\n",
    "pre = np.zeros_like(Y_test)\n",
    "bin_mat = np.where(X_test>0,1, 0 )\n",
    "h, w = bin_mat.shape\n",
    "print(h, w)\n",
    "print(p1_nb)\n",
    "acc=0\n",
    "for i in range(h):\n",
    "    pro_0=np.prod((p0_nb**bin_mat[i])*((1-p0_nb)**(1-bin_mat[i])))\n",
    "    pro_1=np.prod((p1_nb**bin_mat[i])*((1-p1_nb)**(1-bin_mat[i])))\n",
    "    if phi_nb*pro_1>(1-phi_nb)*pro_0:\n",
    "        pre[i]=1\n",
    "    else:\n",
    "        pre[i]=0\n",
    "temp = np.sum(np.abs(Y_test-pre))     \n",
    "print(temp)  \n",
    "print((1-(temp/Y_train.shape[0]))*100)"
   ]
  },
  {
   "cell_type": "code",
   "execution_count": 7,
   "metadata": {},
   "outputs": [
    {
     "name": "stdout",
     "output_type": "stream",
     "text": [
      "1146 33408\n",
      "31\n",
      "99.32402965547318\n"
     ]
    }
   ],
   "source": [
    "X_test= np.array(X_test)\n",
    "Y_test=np.array(Y_test)\n",
    "pre = np.zeros_like(Y_test)\n",
    "bin_mat = np.where(X_test>0,1, 0 )\n",
    "h, w = bin_mat.shape\n",
    "print(h, w)\n",
    "acc=0\n",
    "t2_nb= math.log(phi_nb/(1-phi_nb))\n",
    "t2_nb+=np.sum(np.log((1-p1_nb)/(1-p0_nb)))\n",
    "t1_nb=np.log((p1_nb*(1-p0_nb))/((p0_nb*(1-p1_nb))), dtype='float64')\n",
    "for i in range(h):\n",
    "    if (np.dot(t1_nb, bin_mat[i])+t2_nb)>=0:\n",
    "        pre[i]=1\n",
    "\n",
    "temp = np.sum(np.abs(Y_test-pre))     \n",
    "print(temp)  \n",
    "print((1-(temp/Y_train.shape[0]))*100)\n"
   ]
  },
  {
   "cell_type": "code",
   "execution_count": 8,
   "metadata": {},
   "outputs": [],
   "source": [
    "#Gaussian Naive's algorithm \n",
    "# mean_0= np.mean(X_train[Y_train==0], axis=0)\n",
    "# mean_1= np.mean(X_train[Y_train==1], axis=0)\n",
    "# X_0 = X_train[Y_train==0]\n",
    "# X_1 = X_train[Y_train==1]\n",
    "# print(X_0)\n",
    "# X_0 = X_0- mean_0\n",
    "# X_1 = X_1- mean_1\n",
    "# # cov = np.matmul(X_0.T, X_0)\n",
    "# cov1 =  np.matmul(X_1.T, X_1)\n",
    "# cov = cov + cov1"
   ]
  },
  {
   "cell_type": "code",
   "execution_count": 9,
   "metadata": {},
   "outputs": [],
   "source": [
    "#logistic regression\n",
    "#gradient accent algorithm:\n",
    "def sigmoid(z):\n",
    "    return 1/(1+np.exp(-z))\n",
    "def logistic_regression(X, y, stepsize,axisx,axisy_train,axisy_test,  iterations):\n",
    "    n, d = X.shape\n",
    "    w= np.zeros(d)\n",
    "    for i in range(iterations):\n",
    "        axisx.append(i+1)\n",
    "        predictions = sigmoid(np.dot(X, w))  #X has the shape nxd and y as nx1\n",
    "        gradient = np.dot(X.T,(y-predictions))\n",
    "        w+= stepsize*gradient\n",
    "        expec= np.matmul(w.T, X_test.T)\n",
    "        expec= np.where(expec>0.5, 1, 0)\n",
    "        temp = np.sum(np.abs(Y_test-expec))\n",
    "        axisy_test.append(temp)   \n",
    "        expec= np.matmul(w, X_train.T)\n",
    "        expec= np.where(expec>0.5, 1, 0)\n",
    "        temp = np.sum(np.abs(Y_train-expec)) \n",
    "        axisy_train.append(temp)      \n",
    "    return w"
   ]
  },
  {
   "cell_type": "code",
   "execution_count": 10,
   "metadata": {},
   "outputs": [
    {
     "name": "stdout",
     "output_type": "stream",
     "text": [
      "(4586,)\n"
     ]
    },
    {
     "name": "stderr",
     "output_type": "stream",
     "text": [
      "/var/folders/rl/3m72t40d3_18r9rdcry1mc180000gn/T/ipykernel_19609/1386023106.py:4: RuntimeWarning: overflow encountered in exp\n",
      "  return 1/(1+np.exp(-z))\n"
     ]
    },
    {
     "name": "stdout",
     "output_type": "stream",
     "text": [
      "99.93458351504579\n"
     ]
    }
   ],
   "source": [
    "stepsize= 0.01\n",
    "iterations =100\n",
    "print (Y_train.shape)\n",
    "axisx=[]\n",
    "axisy_train=[]\n",
    "axisy_test=[]\n",
    "weights_logreg = logistic_regression(X_train, Y_train, stepsize,axisx, axisy_train,axisy_test, iterations)\n",
    "expec= np.matmul(weights_logreg.T, X_test.T)\n",
    "expec= np.where(expec>0.5, 1, 0)\n",
    "temp = np.sum(np.abs(Y_test-expec))  \n",
    "expec= np.matmul(weights_logreg.T, X_train.T)\n",
    "expec= np.where(expec>0.5, 1, 0)\n",
    "temp = np.sum(np.abs(Y_train-expec))     \n",
    "print((1-(temp/Y_train.shape[0]))*100)"
   ]
  },
  {
   "cell_type": "code",
   "execution_count": 11,
   "metadata": {},
   "outputs": [
    {
     "data": {
      "image/png": "[encoded data removed]",
      "text/plain": [
       "<Figure size 640x480 with 1 Axes>"
      ]
     },
     "metadata": {},
     "output_type": "display_data"
    }
   ],
   "source": [
    "ax = plt.axes()\n",
    "ax.set_facecolor('#dcf5ff')\n",
    "ax.scatter(axisx, axisy_test, marker='o', linestyle='-', s = 10)\n",
    "ax.scatter(axisx, axisy_train, marker='o', linestyle='-', s = 10)\n",
    "ax.set_xlabel('Iterations')\n",
    "ax.set_ylabel('Error')\n",
    "ax.set_title('Error vs. Iterations')\n",
    "# ax.grid(True)\n",
    "plt.show()"
   ]
  },
  {
   "cell_type": "code",
   "execution_count": 12,
   "metadata": {},
   "outputs": [],
   "source": [
    "#perceptron algorithm:\n",
    "#It expects the linear seperability of algorithms so we have to assume there is a line passing through the origin and run the algorithm \n",
    "#we have to convert the y_test and train data set as 1 and -1\n",
    "y_test = np.where(Y_test==0, -1, 1)\n",
    "y_train = np.where(Y_train==0, -1, 1)\n",
    "def perceptron(X_train, y_train, max_iter, axisx, axisy):\n",
    "    w0= np.zeros(X_train.shape[1])\n",
    "    y_pre= np.zeros(X_train.shape[1])\n",
    "    error=1\n",
    "    for i in range(max_iter):\n",
    "        axisx.append(i)\n",
    "        if error!=0:\n",
    "            y_pre= np.matmul(X_train, w0)\n",
    "            y_pre = np.where(y_pre>=0, 1, -1 )\n",
    "            y_pre = y_train- y_pre\n",
    "            ind = np.argmax(y_pre!=0)\n",
    "            w0 +=y_train[ind]* X_train[ind].T\n",
    "            error = np.sum(np.abs(y_pre))\n",
    "            axisy.append(error/2)\n",
    "        else: \n",
    "            break\n",
    "    return w0\n",
    "    \n",
    "        "
   ]
  },
  {
   "cell_type": "code",
   "execution_count": 13,
   "metadata": {},
   "outputs": [
    {
     "name": "stdout",
     "output_type": "stream",
     "text": [
      "53.0\n",
      "97.68861753161798\n"
     ]
    }
   ],
   "source": [
    "axisx=[]\n",
    "axisy=[]\n",
    "w_har= perceptron(X_train, y_train, 100, axisx, axisy)\n",
    "# print(w.shape)\n",
    "y_pre = np.dot(X_test, w_har)\n",
    "y_pre = np.where(y_pre>=0, 1, -1)\n",
    "y_pre = y_pre - y_test\n",
    "error = np.sum(np.abs(y_pre))\n",
    "# print(axisx)\n",
    "print(error/2)\n",
    "print((1-(error/Y_train.shape[0]))*100)"
   ]
  },
  {
   "cell_type": "code",
   "execution_count": 14,
   "metadata": {},
   "outputs": [
    {
     "data": {
      "image/png": "[encoded data removed]",
      "text/plain": [
       "<Figure size 640x480 with 1 Axes>"
      ]
     },
     "metadata": {},
     "output_type": "display_data"
    }
   ],
   "source": [
    "plt.scatter(axisx, axisy, marker='o', linestyle='-', s = 5)\n",
    "plt.xlabel('Iterations')\n",
    "plt.ylabel('Error')\n",
    "plt.title('Error vs. Iterations')\n",
    "plt.grid(True)\n",
    "plt.show()"
   ]
  },
  {
   "cell_type": "code",
   "execution_count": 15,
   "metadata": {},
   "outputs": [
    {
     "name": "stdout",
     "output_type": "stream",
     "text": [
      "test_Accuracy using svm: 98.95287958115183\n"
     ]
    }
   ],
   "source": [
    "from sklearn.svm import SVC\n",
    "from sklearn.metrics import accuracy_score\n",
    "\n",
    "# Assuming you have already split your data into training and testing sets\n",
    "# X_train and y_train are your training data and labels\n",
    "# X_test and y_test are your testing data and labels\n",
    "\n",
    "# Create an SVM classifier\n",
    "svm_classifier = SVC(kernel='linear')  # You can specify different kernels like 'linear', 'poly', 'rbf', etc.\n",
    "\n",
    "# Train the SVM classifier\n",
    "svm_classifier.fit(X_train, Y_train)\n",
    "\n",
    "# Make predictions on the testing data\n",
    "y_pred = svm_classifier.predict(X_test)\n",
    "\n",
    "# Calculate accuracy\n",
    "accuracy = accuracy_score(Y_test, y_pred)\n",
    "\n",
    "print(\"test_Accuracy using svm:\", accuracy*100)            \n"
   ]
  },
  {
   "cell_type": "code",
   "execution_count": 16,
   "metadata": {},
   "outputs": [],
   "source": [
    "# y_pred = svm_classifier.predict(X_train)\n",
    "# accuracy = accuracy_score(Y_train, y_pred)\n",
    "# print(\"train_Accuracy using svm:\", accuracy)"
   ]
  },
  {
   "cell_type": "code",
   "execution_count": 17,
   "metadata": {},
   "outputs": [],
   "source": [
    "#perceptron with margin:\n",
    "def perceptron_with_margin(X_train, y_train, max_iter,gamma, axisx, axisy):\n",
    "    w0= np.zeros(X_train.shape[1])\n",
    "    y_pre= np.zeros(X_train.shape[1])\n",
    "    error=1\n",
    "    for i in range(max_iter):\n",
    "        axisx.append(i)\n",
    "        if error!=0:\n",
    "            y_pre= np.matmul(X_train, w0)\n",
    "            y_pre = np.where(y_pre>=gamma, 1, -1 )\n",
    "            y_pre = y_train- y_pre\n",
    "            ind = np.argmax(y_pre!=0)\n",
    "            w0 +=y_train[ind]* X_train[ind].T\n",
    "            error = np.sum(np.abs(y_pre))\n",
    "            axisy.append(error/2)\n",
    "        else: \n",
    "            break\n",
    "    return w0"
   ]
  },
  {
   "cell_type": "code",
   "execution_count": 18,
   "metadata": {},
   "outputs": [
    {
     "name": "stdout",
     "output_type": "stream",
     "text": [
      "47.0\n",
      "97.9502834714348\n"
     ]
    },
    {
     "data": {
      "image/png": "[encoded data removed]",
      "text/plain": [
       "<Figure size 640x480 with 1 Axes>"
      ]
     },
     "metadata": {},
     "output_type": "display_data"
    }
   ],
   "source": [
    "axisx=[]\n",
    "axisy=[]\n",
    "w_har1= perceptron_with_margin(X_train, y_train, 200,1,  axisx, axisy)\n",
    "# print(w.shape)\n",
    "y_pre = np.dot(X_test, w_har1)\n",
    "y_pre = np.where(y_pre>=0, 1, -1)\n",
    "# print(y_pre.shape)\n",
    "# print(y_train.shape)\n",
    "y_pre = y_pre - y_test\n",
    "error = np.sum(np.abs(y_pre))\n",
    "# print(axisx)\n",
    "print(error/2)\n",
    "print((1-(error/Y_train.shape[0]))*100)\n",
    "plt.scatter(axisx, axisy, marker='o', linestyle='-', s=5)\n",
    "plt.xlabel('Iterations')\n",
    "plt.ylabel('Error')\n",
    "plt.title('Error vs. Iterations')\n",
    "plt.grid(True)\n",
    "plt.show()"
   ]
  }
 ],
 "metadata": {
  "kernelspec": {
   "display_name": "Python 3",
   "language": "python",
   "name": "python3"
  },
  "language_info": {
   "codemirror_mode": {
    "name": "ipython",
    "version": 3
   },
   "file_extension": ".py",
   "mimetype": "text/x-python",
   "name": "python",
   "nbconvert_exporter": "python",
   "pygments_lexer": "ipython3",
   "version": "3.12.2"
  }
 },
 "nbformat": 4,
 "nbformat_minor": 2
}
